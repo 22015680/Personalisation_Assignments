{
 "cells": [
  {
   "cell_type": "code",
   "execution_count": 40,
   "metadata": {},
   "outputs": [],
   "source": [
    "#Adapted from the Keras Example https://keras.io/examples/structured_data/collaborative_filtering_movielens/"
   ]
  },
  {
   "cell_type": "code",
   "execution_count": 41,
   "metadata": {},
   "outputs": [],
   "source": [
    "import pandas as pd\n",
    "import numpy as np\n",
    "from pathlib import Path\n",
    "import matplotlib.pyplot as plt"
   ]
  },
  {
   "cell_type": "markdown",
   "metadata": {},
   "source": [
    "# Week 6.1- Embeddings for Recommendation \n",
    "\n",
    "Here we'll see how to train our simple **Dot Product** model, along with our **user embeddings** and **item embeddings** using the **Keras** library. As before, we'll be checking out the **MovieLens** dataset \n",
    "\n",
    "## Loading in the Dataset\n",
    "\n",
    "First we load in the small version of the dataset. As this is a **Collaborative Filtering** approach, we are interested in the **ratings.csv**, which has all over ratings made by each user."
   ]
  },
  {
   "cell_type": "code",
   "execution_count": 42,
   "metadata": {},
   "outputs": [],
   "source": [
    "df = pd.read_csv(\"data/ml-latest-small/ratings.csv\")"
   ]
  },
  {
   "cell_type": "code",
   "execution_count": 43,
   "metadata": {},
   "outputs": [
    {
     "data": {
      "text/plain": [
       "100004"
      ]
     },
     "execution_count": 43,
     "metadata": {},
     "output_type": "execute_result"
    }
   ],
   "source": [
    "len(df)"
   ]
  },
  {
   "cell_type": "code",
   "execution_count": 44,
   "metadata": {},
   "outputs": [
    {
     "data": {
      "text/html": [
       "<div>\n",
       "<style scoped>\n",
       "    .dataframe tbody tr th:only-of-type {\n",
       "        vertical-align: middle;\n",
       "    }\n",
       "\n",
       "    .dataframe tbody tr th {\n",
       "        vertical-align: top;\n",
       "    }\n",
       "\n",
       "    .dataframe thead th {\n",
       "        text-align: right;\n",
       "    }\n",
       "</style>\n",
       "<table border=\"1\" class=\"dataframe\">\n",
       "  <thead>\n",
       "    <tr style=\"text-align: right;\">\n",
       "      <th></th>\n",
       "      <th>userId</th>\n",
       "      <th>movieId</th>\n",
       "      <th>rating</th>\n",
       "      <th>timestamp</th>\n",
       "    </tr>\n",
       "  </thead>\n",
       "  <tbody>\n",
       "    <tr>\n",
       "      <th>99904</th>\n",
       "      <td>671</td>\n",
       "      <td>590</td>\n",
       "      <td>4.0</td>\n",
       "      <td>1065149296</td>\n",
       "    </tr>\n",
       "    <tr>\n",
       "      <th>99905</th>\n",
       "      <td>671</td>\n",
       "      <td>608</td>\n",
       "      <td>4.0</td>\n",
       "      <td>1064890575</td>\n",
       "    </tr>\n",
       "    <tr>\n",
       "      <th>99906</th>\n",
       "      <td>671</td>\n",
       "      <td>745</td>\n",
       "      <td>4.0</td>\n",
       "      <td>1065149085</td>\n",
       "    </tr>\n",
       "    <tr>\n",
       "      <th>99907</th>\n",
       "      <td>671</td>\n",
       "      <td>919</td>\n",
       "      <td>4.0</td>\n",
       "      <td>1065149458</td>\n",
       "    </tr>\n",
       "    <tr>\n",
       "      <th>99908</th>\n",
       "      <td>671</td>\n",
       "      <td>1035</td>\n",
       "      <td>5.0</td>\n",
       "      <td>1065149492</td>\n",
       "    </tr>\n",
       "    <tr>\n",
       "      <th>...</th>\n",
       "      <td>...</td>\n",
       "      <td>...</td>\n",
       "      <td>...</td>\n",
       "      <td>...</td>\n",
       "    </tr>\n",
       "    <tr>\n",
       "      <th>99999</th>\n",
       "      <td>671</td>\n",
       "      <td>6268</td>\n",
       "      <td>2.5</td>\n",
       "      <td>1065579370</td>\n",
       "    </tr>\n",
       "    <tr>\n",
       "      <th>100000</th>\n",
       "      <td>671</td>\n",
       "      <td>6269</td>\n",
       "      <td>4.0</td>\n",
       "      <td>1065149201</td>\n",
       "    </tr>\n",
       "    <tr>\n",
       "      <th>100001</th>\n",
       "      <td>671</td>\n",
       "      <td>6365</td>\n",
       "      <td>4.0</td>\n",
       "      <td>1070940363</td>\n",
       "    </tr>\n",
       "    <tr>\n",
       "      <th>100002</th>\n",
       "      <td>671</td>\n",
       "      <td>6385</td>\n",
       "      <td>2.5</td>\n",
       "      <td>1070979663</td>\n",
       "    </tr>\n",
       "    <tr>\n",
       "      <th>100003</th>\n",
       "      <td>671</td>\n",
       "      <td>6565</td>\n",
       "      <td>3.5</td>\n",
       "      <td>1074784724</td>\n",
       "    </tr>\n",
       "  </tbody>\n",
       "</table>\n",
       "<p>100 rows × 4 columns</p>\n",
       "</div>"
      ],
      "text/plain": [
       "        userId  movieId  rating   timestamp\n",
       "99904      671      590     4.0  1065149296\n",
       "99905      671      608     4.0  1064890575\n",
       "99906      671      745     4.0  1065149085\n",
       "99907      671      919     4.0  1065149458\n",
       "99908      671     1035     5.0  1065149492\n",
       "...        ...      ...     ...         ...\n",
       "99999      671     6268     2.5  1065579370\n",
       "100000     671     6269     4.0  1065149201\n",
       "100001     671     6365     4.0  1070940363\n",
       "100002     671     6385     2.5  1070979663\n",
       "100003     671     6565     3.5  1074784724\n",
       "\n",
       "[100 rows x 4 columns]"
      ]
     },
     "execution_count": 44,
     "metadata": {},
     "output_type": "execute_result"
    }
   ],
   "source": [
    "df.tail(100)"
   ]
  },
  {
   "cell_type": "markdown",
   "metadata": {},
   "source": [
    "## Preprocessing \n",
    "\n",
    "What we have in the dataset is a list of **userId** and **movieId** pairs loaded into a ``Pandas`` DataFrame. \n",
    "\n",
    "As we said before, you can think of an embedding layer as a **one-hot encoding** layer the size of your **vocabulary**, followed by a **fully connected layer** the size of your embedding. \n",
    "\n",
    "When we make the embedding, we will need a way of mapping back from **indexes** in the **one-hot encoding** back to the ids for the users and movies. \n",
    "\n",
    "### Vocabulary \n",
    "\n",
    "In order to make the vocabulary (all the unique ids), we can use the ``unique()`` function in ``Pandas``"
   ]
  },
  {
   "cell_type": "code",
   "execution_count": 45,
   "metadata": {},
   "outputs": [],
   "source": [
    "user_ids = df[\"userId\"].unique().tolist()\n",
    "movie_ids = df[\"movieId\"].unique().tolist()"
   ]
  },
  {
   "cell_type": "code",
   "execution_count": 46,
   "metadata": {},
   "outputs": [
    {
     "data": {
      "text/plain": [
       "9066"
      ]
     },
     "execution_count": 46,
     "metadata": {},
     "output_type": "execute_result"
    }
   ],
   "source": [
    "len(movie_ids)"
   ]
  },
  {
   "cell_type": "code",
   "execution_count": 47,
   "metadata": {},
   "outputs": [
    {
     "data": {
      "text/plain": [
       "[31, 1029, 1061, 1129, 1172, 1263]"
      ]
     },
     "execution_count": 47,
     "metadata": {},
     "output_type": "execute_result"
    }
   ],
   "source": [
    "#Non-sequential list of ids\n",
    "movie_ids[:6]"
   ]
  },
  {
   "cell_type": "markdown",
   "metadata": {},
   "source": [
    "### Dictionary Comprehensions \n",
    "\n",
    "We've seen ``Dictionaries`` (e.g. when looking at JSON from REST APIs). This is a collection like a ``List``, but instead of using indexes to access data (**values**), we use **keys**. \n",
    "\n",
    "We've also seen ``List Comprehensions``, a short hand way to iterate through an existing collection and make a new ``List``. \n",
    "\n",
    "As we want something where we can use an arbitrary string/number (e.g. a movie or user id) to look up an index, a ``Dictionary`` seems like a good data structure to use. We can declare dictionaries manually (see below), but it would be much quicker and cleaner to use the information we already have to make this.\n"
   ]
  },
  {
   "cell_type": "code",
   "execution_count": 48,
   "metadata": {},
   "outputs": [
    {
     "data": {
      "text/plain": [
       "1"
      ]
     },
     "execution_count": 48,
     "metadata": {},
     "output_type": "execute_result"
    }
   ],
   "source": [
    "#Manually making the dictionary\n",
    "movie_id_to_index = {\n",
    "    31: 1,\n",
    "    1029: 2,\n",
    "    1061: 3\n",
    "}\n",
    "#Use a movie id to look up an index\n",
    "movie_id_to_index[31]"
   ]
  },
  {
   "cell_type": "markdown",
   "metadata": {},
   "source": [
    "Like the ``List Comprehension``, the ``Dictionary Comprehension`` iterates through a given collection, does some calculation and stores new values in a new collection. \n",
    "\n",
    "In this case, we need to return both a ``Key`` and a ``Value`` for each item. \n",
    "\n",
    "```\n",
    "a = [1,2,3]\n",
    "b = {i:i+1 for i in a} \n",
    "```\n",
    "\n",
    "is the same as \n",
    "\n",
    "```\n",
    "a = [1,2,3]\n",
    "b = {}\n",
    "for i in a:\n",
    "    b[i] = i+1\n",
    "```\n",
    "\n",
    "where we end up with the ``Dictionary``\n",
    "\n",
    "```\n",
    "{\n",
    "    1: 2,\n",
    "    2: 3,\n",
    "    3: 4\n",
    "}\n",
    "```\n",
    "\n",
    "Below, we combine the dictionary comprehension with the ``enumerate()`` function to return the id (x) and the index (i) and store them in a new dictionary "
   ]
  },
  {
   "cell_type": "code",
   "execution_count": 49,
   "metadata": {},
   "outputs": [],
   "source": [
    "#Make a dictionary mapping ids (keys) to indexes (values)\n",
    "user_id_to_index = {x: i for i, x in enumerate(user_ids)}\n",
    "movie_id_to_index = {x: i for i, x in enumerate(movie_ids)}"
   ]
  },
  {
   "cell_type": "code",
   "execution_count": 50,
   "metadata": {},
   "outputs": [],
   "source": [
    "#Make a new column in the dataframe which contains the appropriate index for each user and movie\n",
    "df[\"user_index\"] = [user_id_to_index[i] for i in df[\"userId\"]]\n",
    "df[\"movie_index\"] = [movie_id_to_index[i] for i in df[\"movieId\"]]"
   ]
  },
  {
   "cell_type": "code",
   "execution_count": 51,
   "metadata": {},
   "outputs": [
    {
     "data": {
      "text/html": [
       "<div>\n",
       "<style scoped>\n",
       "    .dataframe tbody tr th:only-of-type {\n",
       "        vertical-align: middle;\n",
       "    }\n",
       "\n",
       "    .dataframe tbody tr th {\n",
       "        vertical-align: top;\n",
       "    }\n",
       "\n",
       "    .dataframe thead th {\n",
       "        text-align: right;\n",
       "    }\n",
       "</style>\n",
       "<table border=\"1\" class=\"dataframe\">\n",
       "  <thead>\n",
       "    <tr style=\"text-align: right;\">\n",
       "      <th></th>\n",
       "      <th>userId</th>\n",
       "      <th>movieId</th>\n",
       "      <th>rating</th>\n",
       "      <th>timestamp</th>\n",
       "      <th>user_index</th>\n",
       "      <th>movie_index</th>\n",
       "    </tr>\n",
       "  </thead>\n",
       "  <tbody>\n",
       "    <tr>\n",
       "      <th>0</th>\n",
       "      <td>1</td>\n",
       "      <td>31</td>\n",
       "      <td>2.5</td>\n",
       "      <td>1260759144</td>\n",
       "      <td>0</td>\n",
       "      <td>0</td>\n",
       "    </tr>\n",
       "    <tr>\n",
       "      <th>1</th>\n",
       "      <td>1</td>\n",
       "      <td>1029</td>\n",
       "      <td>3.0</td>\n",
       "      <td>1260759179</td>\n",
       "      <td>0</td>\n",
       "      <td>1</td>\n",
       "    </tr>\n",
       "    <tr>\n",
       "      <th>2</th>\n",
       "      <td>1</td>\n",
       "      <td>1061</td>\n",
       "      <td>3.0</td>\n",
       "      <td>1260759182</td>\n",
       "      <td>0</td>\n",
       "      <td>2</td>\n",
       "    </tr>\n",
       "    <tr>\n",
       "      <th>3</th>\n",
       "      <td>1</td>\n",
       "      <td>1129</td>\n",
       "      <td>2.0</td>\n",
       "      <td>1260759185</td>\n",
       "      <td>0</td>\n",
       "      <td>3</td>\n",
       "    </tr>\n",
       "    <tr>\n",
       "      <th>4</th>\n",
       "      <td>1</td>\n",
       "      <td>1172</td>\n",
       "      <td>4.0</td>\n",
       "      <td>1260759205</td>\n",
       "      <td>0</td>\n",
       "      <td>4</td>\n",
       "    </tr>\n",
       "  </tbody>\n",
       "</table>\n",
       "</div>"
      ],
      "text/plain": [
       "   userId  movieId  rating   timestamp  user_index  movie_index\n",
       "0       1       31     2.5  1260759144           0            0\n",
       "1       1     1029     3.0  1260759179           0            1\n",
       "2       1     1061     3.0  1260759182           0            2\n",
       "3       1     1129     2.0  1260759185           0            3\n",
       "4       1     1172     4.0  1260759205           0            4"
      ]
     },
     "execution_count": 51,
     "metadata": {},
     "output_type": "execute_result"
    }
   ],
   "source": [
    "df.head(5)"
   ]
  },
  {
   "cell_type": "markdown",
   "metadata": {},
   "source": [
    "### Scaling the ratings\n",
    "\n",
    "As is good when working with ``gradient descent``, it helps to have our values on a similar range, and for that to be between 0 and 1. We can use the ``MinMaxScaler`` from ``Scikit-Learn`` to scale our ratings to between 0 and 1"
   ]
  },
  {
   "cell_type": "code",
   "execution_count": 52,
   "metadata": {},
   "outputs": [
    {
     "data": {
      "text/plain": [
       "count    100004.000000\n",
       "mean          3.543608\n",
       "std           1.058064\n",
       "min           0.500000\n",
       "25%           3.000000\n",
       "50%           4.000000\n",
       "75%           4.000000\n",
       "max           5.000000\n",
       "Name: rating, dtype: float64"
      ]
     },
     "execution_count": 52,
     "metadata": {},
     "output_type": "execute_result"
    }
   ],
   "source": [
    "df[\"rating\"].describe()"
   ]
  },
  {
   "cell_type": "code",
   "execution_count": 53,
   "metadata": {},
   "outputs": [],
   "source": [
    "from sklearn.preprocessing import MinMaxScaler\n",
    "##Pick the range\\\n",
    "df[\"rating\"] = MinMaxScaler().fit_transform(df[\"rating\"].values.reshape(-1, 1))"
   ]
  },
  {
   "cell_type": "code",
   "execution_count": 54,
   "metadata": {},
   "outputs": [
    {
     "data": {
      "text/plain": [
       "count    100004.000000\n",
       "mean          0.676357\n",
       "std           0.235125\n",
       "min           0.000000\n",
       "25%           0.555556\n",
       "50%           0.777778\n",
       "75%           0.777778\n",
       "max           1.000000\n",
       "Name: rating, dtype: float64"
      ]
     },
     "execution_count": 54,
     "metadata": {},
     "output_type": "execute_result"
    }
   ],
   "source": [
    "df[\"rating\"].describe()"
   ]
  },
  {
   "cell_type": "markdown",
   "metadata": {},
   "source": [
    "## Training Set\n",
    "\n",
    "We are making a **predictive model** that will take a **user** and **movie** and return a **rating**. \n",
    "\n",
    "For our training, we will make a dataset using the information we already know. In this context, our input feautres (``x``) are the movie and user indexes, and the our output (``y``) is the rating. \n",
    "\n",
    "We make a train - test split of ``10%`` to validate our model. "
   ]
  },
  {
   "cell_type": "code",
   "execution_count": 55,
   "metadata": {},
   "outputs": [],
   "source": [
    "from sklearn.model_selection import train_test_split\n",
    "#Inputs\n",
    "x = df[[\"user_index\", \"movie_index\"]]\n",
    "#Outputs\n",
    "y = df[\"rating\"]\n",
    "#Get train-test split\n",
    "x_train, x_val, y_train, y_val = train_test_split(x, y, test_size=0.1, random_state=42)"
   ]
  },
  {
   "cell_type": "markdown",
   "metadata": {},
   "source": [
    "## Making a Custom Model \n",
    "\n",
    "Previously in ``Keras`` we have used to pre-existing layers, connecting them all together in using the [Sequential](https://keras.io/guides/sequential_model/) object. This allows us to fit together layers that pass information forwards in a structure that works for most **Neural Networks**.\n",
    "\n",
    "Partly for reasons of broadening our horizons, and partly due to many Tensorflow based issues, we are going to introduce you to what is fastly becoming the most popular machine learning library, ``PyTorch``. \n",
    "\n",
    "Luckily for us, the API (the functions, the structure of models etc..) are very similar across a lot of the leading libraries.\n",
    "\n",
    "``PyTorch`` has a [Module]() object which we can **subclass**. Without getting too bogged down in the details of **Object Oriented Programming**, essentially what this means is we can take the **existing functionality** from this object and **override** certain functions to add in custom behaviour.\n",
    "\n",
    "Using the ``Module`` structure, we have something that can take advantage of a lot the things that are built into the ``PyTorch`` library. It can be trained, can have layers, can have parameters that can be optimised.\n",
    "\n",
    "**But**, we can also add in our own functionality. \n",
    "\n",
    "The two main functions we want to override and these are \n",
    "\n",
    "1. ``def __init__()``\n",
    "    \n",
    "    * This is called **once** when the object is first made. We can use this to define our layers \n",
    "    \n",
    "\n",
    "2. ``def forward()``\n",
    "\n",
    "    * This is called everytime we want to make a forwards pass. This means it takes some **inputs** and returns some **outputs**. This is called during training, or for inference on a trained model. \n",
    "    \n",
    "### LouisNet\n",
    "\n",
    "Below, we show an **incredibly simple model**, but it should help you get an intuition for what function is called at when in the training process\n",
    "\n",
    "We can see the ``__init__()`` is called once, and then the ``call()`` is called **once per batch**, where we get the inputs for this batch and return some outputs\n",
    "\n",
    "This model doesnt actually have any parameters to train, its more to demonstrate the subclassing principle in the simplest terms"
   ]
  },
  {
   "cell_type": "code",
   "execution_count": 56,
   "metadata": {},
   "outputs": [
    {
     "name": "stdout",
     "output_type": "stream",
     "text": [
      "Requirement already satisfied: torch in d:\\python\\anaconda\\lib\\site-packages (1.13.1)\n",
      "Requirement already satisfied: torchvision in d:\\python\\anaconda\\lib\\site-packages (0.14.1)\n",
      "Requirement already satisfied: torchaudio in d:\\python\\anaconda\\lib\\site-packages (0.13.1)\n",
      "Requirement already satisfied: typing-extensions in d:\\python\\anaconda\\lib\\site-packages (from torch) (4.1.1)\n",
      "Requirement already satisfied: pillow!=8.3.*,>=5.3.0 in d:\\python\\anaconda\\lib\\site-packages (from torchvision) (9.0.1)\n",
      "Requirement already satisfied: numpy in d:\\python\\anaconda\\lib\\site-packages (from torchvision) (1.21.5)\n",
      "Requirement already satisfied: requests in d:\\python\\anaconda\\lib\\site-packages (from torchvision) (2.27.1)\n",
      "Requirement already satisfied: certifi>=2017.4.17 in d:\\python\\anaconda\\lib\\site-packages (from requests->torchvision) (2021.10.8)\n",
      "Requirement already satisfied: idna<4,>=2.5 in d:\\python\\anaconda\\lib\\site-packages (from requests->torchvision) (3.3)\n",
      "Requirement already satisfied: urllib3<1.27,>=1.21.1 in d:\\python\\anaconda\\lib\\site-packages (from requests->torchvision) (1.26.9)\n",
      "Requirement already satisfied: charset-normalizer~=2.0.0 in d:\\python\\anaconda\\lib\\site-packages (from requests->torchvision) (2.0.4)\n"
     ]
    },
    {
     "name": "stderr",
     "output_type": "stream",
     "text": [
      "WARNING: Ignoring invalid distribution -rotobuf (d:\\python\\anaconda\\lib\\site-packages)\n",
      "WARNING: Ignoring invalid distribution - (d:\\python\\anaconda\\lib\\site-packages)\n",
      "WARNING: Ignoring invalid distribution -rotobuf (d:\\python\\anaconda\\lib\\site-packages)\n",
      "WARNING: Ignoring invalid distribution - (d:\\python\\anaconda\\lib\\site-packages)\n",
      "WARNING: Ignoring invalid distribution -rotobuf (d:\\python\\anaconda\\lib\\site-packages)\n",
      "WARNING: Ignoring invalid distribution - (d:\\python\\anaconda\\lib\\site-packages)\n",
      "WARNING: Ignoring invalid distribution -rotobuf (d:\\python\\anaconda\\lib\\site-packages)\n",
      "WARNING: Ignoring invalid distribution - (d:\\python\\anaconda\\lib\\site-packages)\n",
      "WARNING: Ignoring invalid distribution -rotobuf (d:\\python\\anaconda\\lib\\site-packages)\n",
      "WARNING: Ignoring invalid distribution - (d:\\python\\anaconda\\lib\\site-packages)\n",
      "WARNING: Ignoring invalid distribution -rotobuf (d:\\python\\anaconda\\lib\\site-packages)\n",
      "WARNING: Ignoring invalid distribution - (d:\\python\\anaconda\\lib\\site-packages)\n"
     ]
    }
   ],
   "source": [
    "#Install libraries (only do this once!)\n",
    "!pip install torch torchvision torchaudio"
   ]
  },
  {
   "cell_type": "code",
   "execution_count": 57,
   "metadata": {},
   "outputs": [],
   "source": [
    "#import library\n",
    "import torch"
   ]
  },
  {
   "cell_type": "code",
   "execution_count": 58,
   "metadata": {},
   "outputs": [
    {
     "name": "stdout",
     "output_type": "stream",
     "text": [
      "__init__ called\n",
      "\n",
      "forwards pass (new batch)\n",
      "tensor([[1.],\n",
      "        [2.],\n",
      "        [3.],\n",
      "        [4.]]) \n",
      "\n"
     ]
    }
   ],
   "source": [
    "#Define class and subclass torch.nn.Module\n",
    "class LouisNet(torch.nn.Module):\n",
    "    \n",
    "    #Override __init__()\n",
    "    def __init__(self):\n",
    "        super().__init__()\n",
    "        print(\"__init__ called\")\n",
    "    \n",
    "    #Override forward()\n",
    "    def forward(self, inputs):\n",
    "        print(\"\\nforwards pass (new batch)\")\n",
    "        print(inputs,\"\\n\")\n",
    "        #return the output (its just the input, unchanged)\n",
    "        return inputs\n",
    "\n",
    "#Make a new instance of LouisNet    \n",
    "louisNet = LouisNet()\n",
    "loss_fn = torch.nn.MSELoss() \n",
    "\n",
    "#Fake dataset\n",
    "x = torch.FloatTensor([[1],[2],[3],[4]])\n",
    "y = torch.FloatTensor([[2],[3],[4],[5]])\n",
    "\n",
    "#Do a forwards pass\n",
    "prediction = louisNet(x)\n",
    "loss = loss_fn(prediction, y)"
   ]
  },
  {
   "cell_type": "markdown",
   "metadata": {},
   "source": [
    "## The Dot Product Recommender Model\n",
    "\n",
    "Lets remember the model we're trying to make. \n",
    "\n",
    "\n",
    "```\n",
    "Predicted Rating = Dot Product(user_vector, item_vector) + user_bias + item_bias\n",
    "```\n",
    "\n",
    "\n",
    "Our target is to find a vector for each movie and user so that their dot product (+ their biases) is an accurate prediction for the rating that user would make for that movie. \n",
    "\n",
    "Each of these vectors will be contained in a matrix, that we call an **embedding**\n",
    "\n",
    "\n",
    "### The Embedding Layer \n",
    "\n",
    "Again, you can think of an embedding layer as a **one-hot encoding** layer the size of your **vocabulary**, followed by a **fully connected layer** the size of your embedding. \n",
    "\n",
    "Luckily, ```PyTorch``` has a layer already we can use, all we have to say is \n",
    "\n",
    "1. How many items we have (vocabulary size)\n",
    "\n",
    "2. The size of the embedding \n",
    "\n",
    "You might use something between 10-300, and this is something you will have to tune\n",
    "\n",
    "### New Arguments for ``__init__``\n",
    "\n",
    "Again, we will override the ```__init__()``` function, but this time we will add in some extra arguments. We can use this to pass in \n",
    "\n",
    "1. Number of users \n",
    "\n",
    "2. Number of movies\n",
    "\n",
    "3. Size of Embedding\n",
    "\n",
    "These get passed in when we make the new object \n",
    "\n",
    "```\n",
    "model = RecommenderNet(num_users, num_movies, EMBEDDING_SIZE)\n",
    "\n",
    "```\n",
    "\n",
    "### Saving Variables and ```self```\n",
    "\n",
    "Finally, the last **Object-oriented** concept we'll need allows us to save things within the object. These are sometimes called ``instance variables`` or ``fields``, but the main thing you need to know is **these are like the variables we use all the time to store objects and data**, apart from they belong to the object, and only work within this context \n",
    "\n",
    "We use the keyword ```self``` within the object to refer to itself. We can use this to make layers in the ```__init__()``` function, store them in the object, and then reuse and update them in the ```forward()``` function.\n"
   ]
  },
  {
   "cell_type": "markdown",
   "metadata": {},
   "source": [
    "On every forwards pass (see ``forward()`` below)\n",
    "\n",
    "1. We take a batch of ``users`` and ``movies``\n",
    "\n",
    "\n",
    "2. Run them through the normal embedding and bias embedding layers respectively \n",
    "\n",
    "\n",
    "3. Get the vectors for each out \n",
    "\n",
    "\n",
    "4. Get the dot product of the user and movie vectors \n",
    "\n",
    "\n",
    "5. Add the biases \n",
    "\n",
    "\n",
    "6. Run through a sigmoid\n",
    "\n",
    "\n",
    "7. Return!"
   ]
  },
  {
   "cell_type": "code",
   "execution_count": 59,
   "metadata": {},
   "outputs": [],
   "source": [
    "class RecommenderNet(torch.nn.Module):\n",
    "    def __init__(self, num_users, num_movies, embedding_size=20):\n",
    "        super().__init__()\n",
    "        self.user_embedding = torch.nn.Embedding(num_users, embedding_size)\n",
    "        self.user_bias = torch.nn.Embedding(num_users, 1)\n",
    "        self.movie_embedding = torch.nn.Embedding(num_movies, embedding_size)\n",
    "        self.movie_bias = torch.nn.Embedding(num_movies, 1)\n",
    "        self.sig = torch.nn.Sigmoid()\n",
    "\n",
    "    def forward(self, inputs):\n",
    "        #Split out indexes \n",
    "        user_indexes = inputs[:, 0]\n",
    "        movie_indexes = inputs[:, 1]\n",
    "        #Forward pass on embedding layer\n",
    "        user_vector = self.user_embedding(user_indexes)\n",
    "        user_bias = self.user_bias(user_indexes).flatten()\n",
    "        movie_vector = self.movie_embedding(movie_indexes)\n",
    "        movie_bias = self.movie_bias(movie_indexes).flatten()\n",
    "        #Dot product\n",
    "        dot = (user_vector * movie_vector).sum(1)\n",
    "        with_bias = dot + user_bias + movie_bias\n",
    "        #Activation function\n",
    "        output = self.sig(with_bias)\n",
    "        return output"
   ]
  },
  {
   "cell_type": "markdown",
   "metadata": {},
   "source": [
    "## Lets test it!\n",
    "\n",
    "### Set up model"
   ]
  },
  {
   "cell_type": "code",
   "execution_count": 60,
   "metadata": {},
   "outputs": [],
   "source": [
    "#Pick Embedding size\n",
    "EMBEDDING_SIZE = 16\n",
    "#Make new object (calls __init__())\n",
    "num_users = len(user_ids)\n",
    "num_movies = len(movie_ids)\n",
    "model = RecommenderNet(num_users, num_movies, EMBEDDING_SIZE)"
   ]
  },
  {
   "cell_type": "markdown",
   "metadata": {},
   "source": [
    "### Training and Datasets in PyTorch\n",
    "\n",
    "PyTorch requires a little bit of manual set up for the training loop that we got for free in ``Keras`` with the ``fit()`` function. \n",
    "\n",
    "Below we see two for loops, one that loops round every epoch (once through the entire dataset) and inside that that loops through each batch (a subset of a chosen size).\n",
    "\n",
    "``PyTorch`` gives us a ``DataLoader`` object which helps with the batching process.\n",
    "\n",
    "Within that inner loop we pass in part of the training set, calculate the loss and update the weights based on this. \n"
   ]
  },
  {
   "cell_type": "code",
   "execution_count": 61,
   "metadata": {},
   "outputs": [],
   "source": [
    "from torch.utils.data import DataLoader\n",
    "from torch.utils.data import Dataset\n",
    "\n",
    "#Make a subclass to hold our dataset (movie - user pairs (input) and a rating (label))\n",
    "class MoviesDataset(Dataset):\n",
    "    def __init__(self, X,y):\n",
    "        self.X = torch.IntTensor(X)\n",
    "        self.y = torch.FloatTensor(y)\n",
    "    def __len__(self):\n",
    "        return len(self.X)\n",
    "    def __getitem__(self, idx):\n",
    "        return self.X[idx], self.y[idx]"
   ]
  },
  {
   "cell_type": "code",
   "execution_count": 62,
   "metadata": {},
   "outputs": [],
   "source": [
    "#Use our train - validation split to make DataLoader objects\n",
    "train_dl = DataLoader(MoviesDataset(x_train.values,y_train.values), batch_size=64, shuffle=True)\n",
    "validation_dl = DataLoader(MoviesDataset(x_val.values,y_val.values), batch_size=64, shuffle=True)"
   ]
  },
  {
   "cell_type": "code",
   "execution_count": 63,
   "metadata": {},
   "outputs": [],
   "source": [
    "epochs = 50\n",
    "#Use Mean Squared Error as a loss function\n",
    "loss_fn = torch.nn.MSELoss() \n",
    "#Use the Adam algorithm to update the weights based on the loss\n",
    "optimizer = torch.optim.Adam(model.parameters(),lr=0.001)"
   ]
  },
  {
   "cell_type": "code",
   "execution_count": 64,
   "metadata": {},
   "outputs": [
    {
     "name": "stdout",
     "output_type": "stream",
     "text": [
      "Loss 0.23541203141212463 Validation Loss 0.22670796513557434\n",
      "Loss 0.2081894874572754 Validation Loss 0.2096940577030182\n",
      "Loss 0.1826946884393692 Validation Loss 0.19390146434307098\n",
      "Loss 0.16037294268608093 Validation Loss 0.1795358955860138\n",
      "Loss 0.14128504693508148 Validation Loss 0.16702309250831604\n",
      "Loss 0.1251065582036972 Validation Loss 0.15592673420906067\n",
      "Loss 0.11146674305200577 Validation Loss 0.14639152586460114\n",
      "Loss 0.09987993538379669 Validation Loss 0.1372392326593399\n",
      "Loss 0.08975902199745178 Validation Loss 0.12975051999092102\n",
      "Loss 0.08101294189691544 Validation Loss 0.12242931872606277\n",
      "Loss 0.07327497005462646 Validation Loss 0.11664103716611862\n",
      "Loss 0.06650833040475845 Validation Loss 0.11165235936641693\n",
      "Loss 0.06067853793501854 Validation Loss 0.10699781030416489\n",
      "Loss 0.055567216128110886 Validation Loss 0.10295537114143372\n",
      "Loss 0.05107441917061806 Validation Loss 0.09934910386800766\n",
      "Loss 0.04714213311672211 Validation Loss 0.09638157486915588\n",
      "Loss 0.043662164360284805 Validation Loss 0.09372715651988983\n",
      "Loss 0.040583375841379166 Validation Loss 0.09162213653326035\n",
      "Loss 0.03789063170552254 Validation Loss 0.08945578336715698\n",
      "Loss 0.03549686819314957 Validation Loss 0.08749262988567352\n",
      "Loss 0.0333779975771904 Validation Loss 0.08578814566135406\n",
      "Loss 0.03147919476032257 Validation Loss 0.0846954882144928\n",
      "Loss 0.029794571921229362 Validation Loss 0.08317328989505768\n",
      "Loss 0.028297441080212593 Validation Loss 0.0821373462677002\n",
      "Loss 0.026968345046043396 Validation Loss 0.08116254955530167\n",
      "Loss 0.02575661987066269 Validation Loss 0.08064614236354828\n",
      "Loss 0.0246795192360878 Validation Loss 0.07982908189296722\n",
      "Loss 0.023678360506892204 Validation Loss 0.07934147119522095\n",
      "Loss 0.022783158347010612 Validation Loss 0.07889022678136826\n",
      "Loss 0.02195744775235653 Validation Loss 0.07855774462223053\n",
      "Loss 0.021192358806729317 Validation Loss 0.0781705304980278\n",
      "Loss 0.02049834094941616 Validation Loss 0.07838277518749237\n",
      "Loss 0.019859978929162025 Validation Loss 0.07795874774456024\n",
      "Loss 0.019268879666924477 Validation Loss 0.07792162895202637\n",
      "Loss 0.018730269744992256 Validation Loss 0.07784439623355865\n",
      "Loss 0.01821339875459671 Validation Loss 0.07775015383958817\n",
      "Loss 0.017741205170750618 Validation Loss 0.0780009850859642\n",
      "Loss 0.01729821041226387 Validation Loss 0.07794196903705597\n",
      "Loss 0.016883643344044685 Validation Loss 0.07791274040937424\n",
      "Loss 0.01648140139877796 Validation Loss 0.07810340076684952\n",
      "Loss 0.0161002054810524 Validation Loss 0.07795526087284088\n",
      "Loss 0.015751145780086517 Validation Loss 0.07807351648807526\n",
      "Loss 0.015416961163282394 Validation Loss 0.07841099053621292\n",
      "Loss 0.015090308152139187 Validation Loss 0.0782778188586235\n",
      "Loss 0.014790283516049385 Validation Loss 0.07825496792793274\n",
      "Loss 0.014514802023768425 Validation Loss 0.07843697816133499\n",
      "Loss 0.014238383620977402 Validation Loss 0.07877930253744125\n",
      "Loss 0.013985470868647099 Validation Loss 0.0788213312625885\n",
      "Loss 0.01375243067741394 Validation Loss 0.07912758737802505\n",
      "Loss 0.01351307425647974 Validation Loss 0.07890620827674866\n"
     ]
    }
   ],
   "source": [
    "#Use a for loop to repeat for the desired number of epochs \n",
    "for i in range(epochs):\n",
    "    \n",
    "    model.train(True)\n",
    "    \n",
    "    #Use a for loop for each batch (provided by the Dataloader)\n",
    "    running_loss = 0.0\n",
    "    for (index, batch) in enumerate(train_dl):\n",
    "        \n",
    "        #Get batch \n",
    "        inputs, labels = batch\n",
    "        model.zero_grad()\n",
    "        \n",
    "        #Forward pass\n",
    "        prediction = model(inputs)\n",
    "        \n",
    "        #Get Loss\n",
    "        loss = loss_fn(prediction, labels)\n",
    "        \n",
    "        #Update weights (back prop)\n",
    "        loss.backward()\n",
    "        optimizer.step()\n",
    "        running_loss += loss\n",
    "    \n",
    "    avg_loss = running_loss / (index + 1)\n",
    "\n",
    "    model.train(False)\n",
    "\n",
    "    #Now try with the validation set (no need to update weights, just get loss)\n",
    "    running_vloss = 0.0\n",
    "    for index, vdata in enumerate(validation_dl):\n",
    "        vinputs, vlabels = vdata\n",
    "        voutputs = model(vinputs)\n",
    "        vloss = loss_fn(voutputs, vlabels)\n",
    "        running_vloss += vloss\n",
    "\n",
    "    avg_vloss = running_vloss / (index + 1)\n",
    "    print('Loss {} Validation Loss {}'.format(avg_loss, avg_vloss))"
   ]
  },
  {
   "cell_type": "markdown",
   "metadata": {},
   "source": [
    "### Accessing the Embeddings \n",
    "\n",
    "We can access the **embedding layers** in our model object. This is the embedding and we can see is has a shape of ```num_users x EMBEDDING_SIZE```"
   ]
  },
  {
   "cell_type": "code",
   "execution_count": 65,
   "metadata": {},
   "outputs": [],
   "source": [
    "torch.save(model.state_dict(), 'model_weights.pth')"
   ]
  },
  {
   "cell_type": "code",
   "execution_count": 66,
   "metadata": {},
   "outputs": [
    {
     "data": {
      "text/plain": [
       "(671, 16, Embedding(671, 16))"
      ]
     },
     "execution_count": 66,
     "metadata": {},
     "output_type": "execute_result"
    }
   ],
   "source": [
    "num_users, EMBEDDING_SIZE, model.user_embedding"
   ]
  },
  {
   "cell_type": "markdown",
   "metadata": {},
   "source": [
    "### Making Predictions \n",
    "\n",
    "Now, we can use our trained model to make predictions, and with the predicted ratings, we can pick some recommendations!\n",
    "\n",
    "In order to get the ratings for all movies for a given user, we need to get pass in our data in the form \n",
    "\n",
    "```\n",
    "[\n",
    "    [user_index, movie_1_index],\n",
    "    [user_index, movie_2_index],\n",
    "    [user_index, movie_3_index],\n",
    "    .....\n",
    "]\n",
    "\n",
    "```"
   ]
  },
  {
   "cell_type": "code",
   "execution_count": 67,
   "metadata": {},
   "outputs": [
    {
     "data": {
      "text/plain": [
       "Index(['movieId', 'title', 'genres'], dtype='object')"
      ]
     },
     "execution_count": 67,
     "metadata": {},
     "output_type": "execute_result"
    }
   ],
   "source": [
    "#Get the movie data so we can map back to names\n",
    "movie_data = pd.read_csv(\"data/ml-latest-small/movies.csv\")\n",
    "movie_data.columns"
   ]
  },
  {
   "cell_type": "markdown",
   "metadata": {},
   "source": [
    "### Making predictions and `argsort()`\n",
    "\n",
    "Once we have the predicted ratings for each film, we need to get the **Top N**\n",
    "\n",
    "Here we use `np.argsort()`, which does the sort based on the **ratings** but returns the **indexes** rather than the **ratings themselves**. We can then use this to look up the `movie_ids` and then the `title`."
   ]
  },
  {
   "cell_type": "code",
   "execution_count": 68,
   "metadata": {},
   "outputs": [],
   "source": [
    "def get_top_n(user = 0, n = 10):\n",
    "    #For one user, make a pair with every movie index\n",
    "    x = torch.IntTensor([[user, i] for i in np.arange(num_movies)])\n",
    "    #Predict \n",
    "    predicted_ratings = model(x)\n",
    "    #Get Top-N indexes\n",
    "    top_n_indexes = predicted_ratings.argsort()[-n:]\n",
    "    #Get Movie Names\n",
    "    top_n = [movie_data[movie_data[\"movieId\"]==movie_ids[i]][\"title\"].item() for i in top_n_indexes]\n",
    "    return top_n"
   ]
  },
  {
   "cell_type": "code",
   "execution_count": 69,
   "metadata": {},
   "outputs": [
    {
     "data": {
      "text/plain": [
       "['Firestarter (1984)',\n",
       " 'Lords of Flatbush, The (1974)',\n",
       " 'Return of Martin Guerre, The (Retour de Martin Guerre, Le) (1982)',\n",
       " 'Victoria (2015)',\n",
       " 'Cruise, The (1998)',\n",
       " 'Baraka (1992)',\n",
       " 'Cutting Edge, The (1992)',\n",
       " 'Admission (2013)',\n",
       " 'Snoopy Come Home (1972)',\n",
       " 'Communion (1989)']"
      ]
     },
     "execution_count": 69,
     "metadata": {},
     "output_type": "execute_result"
    }
   ],
   "source": [
    "#Random users top 10\n",
    "get_top_n(np.random.randint(num_users))"
   ]
  },
  {
   "cell_type": "markdown",
   "metadata": {},
   "source": [
    "# Assessed Assignment 2\n",
    "\n",
    "Please remember to comment your code clearly, submit ``.ipynb`` \n",
    "\n",
    "## Task 1\n",
    "\n",
    "We're going to ask you take the trained model and write the code to make two metrics - **Diversity** and **Novelty**. You should end up with **one statistic** for each that tells you something about the recommendations of the trained model based on the **whole dataset**.\n",
    "\n",
    "\n",
    "#### Pro Tip\n",
    "\n",
    "This will take quite a long time to run on the whole dataset, so start off by trying to get the code to work for **one user**, then expand to **two users**, then **every user**.\n",
    "\n",
    "### Diversity \n",
    "\n",
    "This tells us what the mean diversity (inverse of the similarity, based on movie embeddings) between each film in every users Top 10 films is. \n",
    "\n",
    "1. Calculate every user's top 10\n",
    "\n",
    "\n",
    "2. For each top 10, get the embedding for each film then use this to calculate the similarity matrix\n",
    "\n",
    "\n",
    "3. Invert similarity to get the difference\n",
    "\n",
    "\n",
    "4. Get mean difference for each top 10 \n",
    "\n",
    "\n",
    "5. Report the mean for whole dataset (every top 10)\n",
    "\n",
    "\n",
    "### Novelty \n",
    "\n",
    "This tells us what the mean popularity (e.g. mean rating) of the films in every users Top 10 films is \n",
    "\n",
    "1. Calculate every user's top 10\n",
    "\n",
    "\n",
    "2. For each top 10, get the mean rating for each film (based on the original **MovieLens Small** dataset (``df = pd.read_csv(\"ml-latest-small/ratings.csv\")``). \n",
    "\n",
    "\n",
    "3. Get the mean rating for each top 10.\n",
    "\n",
    "\n",
    "4. Report the mean for the whole dataset (every top 10).\n",
    "\n",
    "\n",
    "\n",
    "## Task 2\n",
    "\n",
    "Using a dimensionality reduction approach (PCA? TSNE?), plot the top 30 best rated films on a 2-D graph based on their movie embeddings. Label each point with the title.\n",
    "\n"
   ]
  },
  {
   "cell_type": "code",
   "execution_count": 70,
   "metadata": {},
   "outputs": [],
   "source": [
    "#Task 1"
   ]
  },
  {
   "cell_type": "code",
   "execution_count": 71,
   "metadata": {},
   "outputs": [],
   "source": [
    "def get_movie_embeddings(movie_data, movie_ids, model):\n",
    "    #Convert movie_ids to movie_indexes using the dictionary built before\n",
    "    movie_indexes = torch.tensor([movie_id_to_index[movie_id] for movie_id in movie_ids])\n",
    "    # Get the embeddings of these movie indexes from the model\n",
    "    movie_embeddings = model.movie_embedding(movie_indexes).detach().numpy()\n",
    "    return movie_embeddings"
   ]
  },
  {
   "cell_type": "code",
   "execution_count": 72,
   "metadata": {},
   "outputs": [],
   "source": [
    "from sklearn.metrics.pairwise import cosine_similarity\n",
    "# Get a random user index\n",
    "user_index = np.random.randint(num_users)"
   ]
  },
  {
   "cell_type": "code",
   "execution_count": 73,
   "metadata": {},
   "outputs": [],
   "source": [
    "def diversity(user_index, n=10):\n",
    "    # Get the top 10 movie titles for a user\n",
    "    top_10_movie_titles = get_top_n(user_index, n)\n",
    "    # Convert movie titles to movie_ids\n",
    "    top_10_movie_ids = [movie_data[movie_data[\"title\"]==title][\"movieId\"].item() for title in top_10_movie_titles]\n",
    "    # Get the movie embeddings for the top 10 movies\n",
    "    movie_embeddings = get_movie_embeddings(movie_data, top_10_movie_ids, model)\n",
    "    # Get cosine distances between all pairs of movie embeddings\n",
    "    similarities = cosine_similarity(movie_embeddings)\n",
    "    # Calculate differences by (1 - similarities)\n",
    "    differences = 1 - similarities\n",
    "    mean_difference = np.mean(differences)\n",
    "    return mean_difference"
   ]
  },
  {
   "cell_type": "code",
   "execution_count": 74,
   "metadata": {},
   "outputs": [],
   "source": [
    "def novelty(user_index, n=10):\n",
    "    # Get the top 10 movie titles for a user\n",
    "    top_10_movie_titles = get_top_n(user_index, n)\n",
    "    # Convert movie titles to movie_ids\n",
    "    top_10_movie_ids = [movie_data[movie_data[\"title\"]==title][\"movieId\"].item() for title in top_10_movie_titles]\n",
    "    # Get the mean rating for each top 10\n",
    "    mean_rating = df[df['movieId'].isin(top_10_movie_ids)]['rating'].mean()\n",
    "    return mean_rating"
   ]
  },
  {
   "cell_type": "code",
   "execution_count": 75,
   "metadata": {},
   "outputs": [],
   "source": [
    "def calculate():\n",
    "    # Get the unique user IDs from the DataFrame\n",
    "    unique_user_ids = df['userId'].unique()\n",
    "    # Creates lists to store diversity and novelty scores for each user\n",
    "    diversity_scores = []\n",
    "    novelty_scores = []\n",
    "    # Iterate through each unique user ID\n",
    "    for user_id in unique_user_ids:\n",
    "        # Get the user index corresponding to the user ID\n",
    "        user_index = user_id_to_index[user_id]\n",
    "        # Get the diversity score for this user using the diversity function\n",
    "        each_diversity = diversity(user_index, n=10)\n",
    "        # Get the novelty score for this user using the novelty function\n",
    "        each_novelty = novelty(user_index, n=10)\n",
    "        # Add the calculated diversity and novelty scores to their respective lists\n",
    "        diversity_scores.append(each_diversity)\n",
    "        novelty_scores.append(each_novelty)\n",
    "    # Calculate the mean diversity and novelty scores of the whole dataset\n",
    "    mean_diversity = np.mean(diversity_scores)\n",
    "    mean_novelty = np.mean(novelty_scores)\n",
    "    # Print the mean diversity and novelty scores\n",
    "    print(\"Mean Diversity:\", mean_diversity)\n",
    "    print(\"Mean Novelty:\", mean_novelty)"
   ]
  },
  {
   "cell_type": "code",
   "execution_count": 76,
   "metadata": {
    "scrolled": false
   },
   "outputs": [
    {
     "name": "stdout",
     "output_type": "stream",
     "text": [
      "Mean Diversity: 0.5783468\n",
      "Mean Novelty: 0.7362607304854712\n"
     ]
    }
   ],
   "source": [
    "# Call the calculate function to compute the mean diversity and novelty scores\n",
    "calculate()"
   ]
  },
  {
   "cell_type": "code",
   "execution_count": 77,
   "metadata": {},
   "outputs": [],
   "source": [
    "#Task 2 PCA Visualisation"
   ]
  },
  {
   "cell_type": "code",
   "execution_count": 78,
   "metadata": {},
   "outputs": [],
   "source": [
    "from sklearn.decomposition import PCA"
   ]
  },
  {
   "cell_type": "code",
   "execution_count": 82,
   "metadata": {},
   "outputs": [],
   "source": [
    "# Group the DataFrame by the 'movieId' and calculate the mean rating for each movie\n",
    "mean_ratings = df.groupby('movieId')['rating'].mean()\n",
    "\n",
    "# Identify the top 30 best rated films\n",
    "top_30_movie_ids = mean_ratings.nlargest(30).index\n",
    "top_30_movie_indexes = [movie_id_to_index[movie_id] for movie_id in top_30_movie_ids]\n",
    "\n",
    "# Extract the movie embeddings for the top films\n",
    "top_30_movie_embeddings = model.movie_embedding(torch.tensor(top_30_movie_indexes)).detach().numpy()\n",
    "\n",
    "#Reduce dimensions\n",
    "pca = PCA(n_components=2)\n",
    "reduced_top_30_movie_embeddings = pca.fit_transform(top_30_movie_embeddings)"
   ]
  },
  {
   "cell_type": "code",
   "execution_count": 84,
   "metadata": {},
   "outputs": [
    {
     "data": {
      "image/png": "[encoded data removed]",
      "text/plain": [
       "<Figure size 1080x1080 with 1 Axes>"
      ]
     },
     "metadata": {
      "needs_background": "light"
     },
     "output_type": "display_data"
    }
   ],
   "source": [
    "# Plot the reduced embeddings on a 2D graph and label each point with the movie title\n",
    "plt.figure(figsize=(15, 15))\n",
    "for i, movie_index in enumerate(top_30_movie_indexes):\n",
    "    x, y = reduced_top_30_movie_embeddings[i]\n",
    "    plt.scatter(x, y)\n",
    "    plt.text(x, y, movie_data[movie_data[\"movieId\"] == movie_ids[movie_index]][\"title\"].item(), fontsize=10)\n",
    "\n",
    "plt.title('Top 30 Best Rated Films based on Movie Embeddings')\n",
    "plt.show()"
   ]
  },
  {
   "cell_type": "code",
   "execution_count": null,
   "metadata": {},
   "outputs": [],
   "source": []
  }
 ],
 "metadata": {
  "kernelspec": {
   "display_name": "Python 3 (ipykernel)",
   "language": "python",
   "name": "python3"
  },
  "language_info": {
   "codemirror_mode": {
    "name": "ipython",
    "version": 3
   },
   "file_extension": ".py",
   "mimetype": "text/x-python",
   "name": "python",
   "nbconvert_exporter": "python",
   "pygments_lexer": "ipython3",
   "version": "3.9.12"
  },
  "varInspector": {
   "cols": {
    "lenName": 16,
    "lenType": 16,
    "lenVar": 40
   },
   "kernels_config": {
    "python": {
     "delete_cmd_postfix": "",
     "delete_cmd_prefix": "del ",
     "library": "var_list.py",
     "varRefreshCmd": "print(var_dic_list())"
    },
    "r": {
     "delete_cmd_postfix": ") ",
     "delete_cmd_prefix": "rm(",
     "library": "var_list.r",
     "varRefreshCmd": "cat(var_dic_list()) "
    }
   },
   "types_to_exclude": [
    "module",
    "function",
    "builtin_function_or_method",
    "instance",
    "_Feature"
   ],
   "window_display": false
  }
 },
 "nbformat": 4,
 "nbformat_minor": 4
}
